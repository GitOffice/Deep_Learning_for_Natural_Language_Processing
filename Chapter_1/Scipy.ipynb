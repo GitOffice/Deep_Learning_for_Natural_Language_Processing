{
 "cells": [
  {
   "cell_type": "markdown",
   "metadata": {},
   "source": [
    "Scipy提供了复杂的算法及其在Numpy中作为函数的用法。这将分配高级命令和多种多样的类和可视化操作。scipy将多个小型包整合在一起，每个包都针对单独的科学计算领域。其中的几个子包是linalg（线性代数）、constants（物理和数学常数）和sparse（稀疏矩阵和相关例程）。"
   ]
  },
  {
   "cell_type": "code",
   "execution_count": 2,
   "metadata": {},
   "outputs": [],
   "source": [
    "import scipy\n",
    "import numpy as np"
   ]
  },
  {
   "cell_type": "code",
   "execution_count": 3,
   "metadata": {},
   "outputs": [],
   "source": [
    "from scipy import linalg"
   ]
  },
  {
   "cell_type": "code",
   "execution_count": 4,
   "metadata": {},
   "outputs": [],
   "source": [
    "mat_ = np.array([[2,3,1],[4,9,10],[10,5,6]]) "
   ]
  },
  {
   "cell_type": "code",
   "execution_count": 5,
   "metadata": {},
   "outputs": [
    {
     "name": "stdout",
     "output_type": "stream",
     "text": [
      "[[ 2  3  1]\n",
      " [ 4  9 10]\n",
      " [10  5  6]]\n"
     ]
    }
   ],
   "source": [
    "print(mat_) "
   ]
  },
  {
   "cell_type": "code",
   "execution_count": 6,
   "metadata": {},
   "outputs": [
    {
     "data": {
      "text/plain": [
       "166.0"
      ]
     },
     "execution_count": 6,
     "metadata": {},
     "output_type": "execute_result"
    }
   ],
   "source": [
    "# determinal of the matrix\n",
    "linalg.det(mat_) "
   ]
  },
  {
   "cell_type": "code",
   "execution_count": 7,
   "metadata": {},
   "outputs": [],
   "source": [
    "inv_mat = linalg.inv(mat_) "
   ]
  },
  {
   "cell_type": "code",
   "execution_count": 8,
   "metadata": {},
   "outputs": [
    {
     "name": "stdout",
     "output_type": "stream",
     "text": [
      "[[ 0.02409639 -0.07831325  0.12650602]\n",
      " [ 0.45783133  0.01204819 -0.09638554]\n",
      " [-0.42168675  0.12048193  0.03614458]]\n"
     ]
    }
   ],
   "source": [
    "print(inv_mat) "
   ]
  },
  {
   "cell_type": "code",
   "execution_count": 9,
   "metadata": {},
   "outputs": [],
   "source": [
    "# singular value decomposition\n",
    "comp1,comp2,comp3 = linalg.svd(mat_) "
   ]
  },
  {
   "cell_type": "code",
   "execution_count": 10,
   "metadata": {},
   "outputs": [
    {
     "name": "stdout",
     "output_type": "stream",
     "text": [
      "[[-0.1854159   0.0294175  -0.98221971]\n",
      " [-0.73602677 -0.66641413  0.11898237]\n",
      " [-0.65106493  0.74500122  0.14521585]]\n",
      "[18.34661713  5.73710697  1.57709968]\n",
      "[[-0.53555313 -0.56881403 -0.62420625]\n",
      " [ 0.84418693 -0.38076134 -0.37731848]\n",
      " [-0.02304957 -0.72902085  0.6841033 ]]\n"
     ]
    }
   ],
   "source": [
    "print(comp1)\n",
    "print(comp2)\n",
    "print(comp3) "
   ]
  },
  {
   "cell_type": "code",
   "execution_count": 11,
   "metadata": {},
   "outputs": [],
   "source": [
    "# Scipy Stats module\n",
    "from scipy import stats"
   ]
  },
  {
   "cell_type": "code",
   "execution_count": 12,
   "metadata": {},
   "outputs": [
    {
     "name": "stdout",
     "output_type": "stream",
     "text": [
      "[ 9.37008637  8.8766256   3.35220219 15.92622397 -1.54323462  1.680112\n",
      "  2.85498444 -3.13706428 -5.10464709  2.39162028  7.69116127  4.06952048\n",
      "  4.02471265  0.25230677  2.68685064 15.61001851 13.6188056   9.30815921\n",
      "  9.23872454  0.16042275] \n",
      " ---\n"
     ]
    }
   ],
   "source": [
    "# Generating a random sample of size 20 from normal\n",
    "# Distribution with mean 3 and standard deviation 5\n",
    "rvs_20 = stats.norm.rvs(3,5,size=20)\n",
    "print(rvs_20,'\\n ---') "
   ]
  },
  {
   "cell_type": "code",
   "execution_count": 13,
   "metadata": {},
   "outputs": [
    {
     "name": "stdout",
     "output_type": "stream",
     "text": [
      "0.22500957436155394\n"
     ]
    }
   ],
   "source": [
    "# Computing the CDF of Beta distribution with a=100 and b=130 \n",
    "# as shape parameters at random variable 0.41\n",
    "cdf_ = scipy.stats.beta.cdf(0.41,a=100,b=130) \n",
    "print(cdf_) "
   ]
  },
  {
   "cell_type": "code",
   "execution_count": null,
   "metadata": {},
   "outputs": [],
   "source": []
  }
 ],
 "metadata": {
  "kernelspec": {
   "display_name": "Python 3",
   "language": "python",
   "name": "python3"
  },
  "language_info": {
   "codemirror_mode": {
    "name": "ipython",
    "version": 3
   },
   "file_extension": ".py",
   "mimetype": "text/x-python",
   "name": "python",
   "nbconvert_exporter": "python",
   "pygments_lexer": "ipython3",
   "version": "3.7.3"
  },
  "toc": {
   "base_numbering": 1,
   "nav_menu": {},
   "number_sections": true,
   "sideBar": true,
   "skip_h1_title": false,
   "title_cell": "Table of Contents",
   "title_sidebar": "Contents",
   "toc_cell": false,
   "toc_position": {},
   "toc_section_display": true,
   "toc_window_display": false
  }
 },
 "nbformat": 4,
 "nbformat_minor": 2
}

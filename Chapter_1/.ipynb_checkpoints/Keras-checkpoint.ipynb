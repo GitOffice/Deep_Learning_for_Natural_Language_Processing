{
 "cells": [
  {
   "cell_type": "code",
   "execution_count": 1,
   "metadata": {},
   "outputs": [
    {
     "name": "stderr",
     "output_type": "stream",
     "text": [
      "Using TensorFlow backend.\n"
     ]
    }
   ],
   "source": [
    "import keras"
   ]
  },
  {
   "cell_type": "code",
   "execution_count": 3,
   "metadata": {},
   "outputs": [],
   "source": [
    "from keras.layers import Dense\n",
    "from keras.models import Sequential\n",
    "import numpy as np"
   ]
  },
  {
   "cell_type": "code",
   "execution_count": 5,
   "metadata": {},
   "outputs": [
    {
     "name": "stdout",
     "output_type": "stream",
     "text": [
      "[[2.00e+00 5.00e+01 1.25e+04 9.80e+01]\n",
      " [0.00e+00 1.30e+01 3.25e+03 2.80e+01]\n",
      " [1.00e+00 1.60e+01 4.00e+03 3.50e+01]\n",
      " ...\n",
      " [2.30e+01 3.00e+00 7.50e+02 6.20e+01]\n",
      " [3.90e+01 1.00e+00 2.50e+02 3.90e+01]\n",
      " [7.20e+01 1.00e+00 2.50e+02 7.20e+01]]\n"
     ]
    }
   ],
   "source": [
    "tran_ = np.genfromtxt('transfusion.csv',delimiter=',')\n",
    "X = tran_[:,0:4]\n",
    "Y = tran_[:,4]\n",
    "print(X) "
   ]
  },
  {
   "cell_type": "code",
   "execution_count": 6,
   "metadata": {},
   "outputs": [
    {
     "name": "stderr",
     "output_type": "stream",
     "text": [
      "/Users/lidianxiang/anaconda3/envs/tensorflow/lib/python3.6/site-packages/ipykernel_launcher.py:3: UserWarning: Update your `Dense` call to the Keras 2 API: `Dense(8, input_dim=4, activation=\"relu\", kernel_initializer=\"uniform\")`\n",
      "  This is separate from the ipykernel package so we can avoid doing imports until\n",
      "/Users/lidianxiang/anaconda3/envs/tensorflow/lib/python3.6/site-packages/ipykernel_launcher.py:4: UserWarning: Update your `Dense` call to the Keras 2 API: `Dense(6, activation=\"relu\", kernel_initializer=\"uniform\")`\n",
      "  after removing the cwd from sys.path.\n"
     ]
    }
   ],
   "source": [
    "# Creating our first MLP model Keras'\n",
    "mlp_keras = Sequential()\n",
    "mlp_keras.add(Dense(8,input_dim=4,init=\"uniform\",activation='relu'))\n",
    "mlp_keras.add(Dense(6,init='uniform',activation='relu'))"
   ]
  },
  {
   "cell_type": "code",
   "execution_count": 7,
   "metadata": {},
   "outputs": [
    {
     "name": "stderr",
     "output_type": "stream",
     "text": [
      "/Users/lidianxiang/anaconda3/envs/tensorflow/lib/python3.6/site-packages/ipykernel_launcher.py:1: UserWarning: Update your `Dense` call to the Keras 2 API: `Dense(1, activation=\"sigmoid\", kernel_initializer=\"uniform\")`\n",
      "  \"\"\"Entry point for launching an IPython kernel.\n"
     ]
    }
   ],
   "source": [
    "mlp_keras.add(Dense(1,init='uniform',activation='sigmoid'))"
   ]
  },
  {
   "cell_type": "code",
   "execution_count": 8,
   "metadata": {},
   "outputs": [],
   "source": [
    "mlp_keras.compile(loss='binary_crossentropy',optimizer='adam',metrics=['accuracy'])"
   ]
  },
  {
   "cell_type": "code",
   "execution_count": 10,
   "metadata": {},
   "outputs": [
    {
     "data": {
      "text/plain": [
       "<keras.callbacks.History at 0xb32434ef0>"
      ]
     },
     "execution_count": 10,
     "metadata": {},
     "output_type": "execute_result"
    }
   ],
   "source": [
    "mlp_keras.fit(X,Y,epochs=200,batch_size=8,verbose=0) "
   ]
  },
  {
   "cell_type": "code",
   "execution_count": 11,
   "metadata": {},
   "outputs": [
    {
     "name": "stdout",
     "output_type": "stream",
     "text": [
      "748/748 [==============================] - 0s 57us/step\n",
      "Accuracy : 80.35 %\n"
     ]
    }
   ],
   "source": [
    "accuracy = mlp_keras.evaluate(X,Y)\n",
    "print(\"Accuracy : %.2f %%\" % (accuracy[1]*100)) "
   ]
  },
  {
   "cell_type": "code",
   "execution_count": 12,
   "metadata": {},
   "outputs": [],
   "source": [
    "# Using a different set of optimizer\n",
    "from keras.optimizers import SGD\n",
    "opt = SGD(lr=0.01) "
   ]
  },
  {
   "cell_type": "code",
   "execution_count": 14,
   "metadata": {},
   "outputs": [],
   "source": [
    "# New model with different combinations of Optimizerand validation dataset as well\n",
    "mlp_optim = Sequential()\n",
    "mlp_optim.add(Dense(8,input_dim=4,kernel_initializer='uniform',activation='relu'))\n",
    "mlp_optim.add(Dense(6,kernel_initializer='uniform',activation='relu'))\n",
    "mlp_optim.add(Dense(1,kernel_initializer='uniform',activation='sigmoid'))"
   ]
  },
  {
   "cell_type": "code",
   "execution_count": 15,
   "metadata": {},
   "outputs": [],
   "source": [
    "# Compiling the model with SGD\n",
    "mlp_optim.compile(loss='binary_crossentropy',optimizer=opt,metrics=['accuracy'])"
   ]
  },
  {
   "cell_type": "code",
   "execution_count": 16,
   "metadata": {},
   "outputs": [
    {
     "name": "stdout",
     "output_type": "stream",
     "text": [
      "748/748 [==============================] - 0s 8us/step\n",
      "Accyracy : 76.20%\n"
     ]
    }
   ],
   "source": [
    "# Fitting the model and checking accuracy\n",
    "mlp_optim.fit(X,Y,validation_split=0.3,epochs=150,batch_size=10,verbose=0)\n",
    "results_optim = mlp_optim.evaluate(X,Y) \n",
    "print(\"Accyracy : %.2f%%\" % (results_optim[1]*100)) "
   ]
  },
  {
   "cell_type": "code",
   "execution_count": null,
   "metadata": {},
   "outputs": [],
   "source": []
  }
 ],
 "metadata": {
  "kernelspec": {
   "display_name": "Python 3.6 (tensorflow)",
   "language": "python",
   "name": "tensorflow"
  },
  "language_info": {
   "codemirror_mode": {
    "name": "ipython",
    "version": 3
   },
   "file_extension": ".py",
   "mimetype": "text/x-python",
   "name": "python",
   "nbconvert_exporter": "python",
   "pygments_lexer": "ipython3",
   "version": "3.6.8"
  }
 },
 "nbformat": 4,
 "nbformat_minor": 2
}

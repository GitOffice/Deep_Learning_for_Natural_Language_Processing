{
 "cells": [
  {
   "cell_type": "markdown",
   "metadata": {},
   "source": [
    "**TensorFlow**是由谷歌开发的开源库，用于大规模机器学习的实现。TensorFlow是DistBelief真正意义上的继承者，DistBelief是谷歌发布的早期软件框架，能利用数千台机器来训练大型模型。\n",
    "\n",
    "**TensorFlow**使用数据流图来表示以图形式执行的数学计算。它利用带有节点和便的有向图。节点表示数学运算，并充当数据输入、结果输出或持续变量读/写的终端。\n",
    "\n",
    "由于具有以下特性，TensorFlow是机器学习领域所需的大规模并行性和高扩展性的最佳选择。\n",
    "\n",
    "+ 深度的灵活性：用户已获得充分授权，可以在TensorFlow基础上编写自己的库。   \n",
    "\n",
    "+ 真正的可移植性：笔记本电脑上编写的机器学习模型能够在GPU上训练，以便更快地进行模型训练，并可以在无需更改代码的前提上，作为云服务部署在移动设备、最终产品或Docker上。  \n",
    "\n",
    "+ 自动求微分：TensorFlow通过其自动求微分功能处理基于梯度的机器学习算法的导数计算。  \n",
    "\n",
    "+ 语言选择：TensorFlow提供Python和C++接口来构建和执行计算图。 \n",
    "\n",
    "+ 性能最大化：TensorFlow图中的计算元素可以分配给多个设备，TensorFlow通过对线程、队列和异步计算的广泛支持来达到性能的最大化。  "
   ]
  },
  {
   "cell_type": "code",
   "execution_count": 10,
   "metadata": {},
   "outputs": [],
   "source": [
    "import tensorflow as tf"
   ]
  },
  {
   "cell_type": "code",
   "execution_count": 11,
   "metadata": {},
   "outputs": [],
   "source": [
    "hello = tf.constant('Hello, Tensors!')"
   ]
  },
  {
   "cell_type": "code",
   "execution_count": 12,
   "metadata": {},
   "outputs": [
    {
     "data": {
      "text/plain": [
       "b'Hello, Tensors!'"
      ]
     },
     "execution_count": 12,
     "metadata": {},
     "output_type": "execute_result"
    }
   ],
   "source": [
    "sess = tf.Session()\n",
    "sess.run(hello)  "
   ]
  },
  {
   "cell_type": "code",
   "execution_count": 13,
   "metadata": {},
   "outputs": [
    {
     "data": {
      "text/plain": [
       "42"
      ]
     },
     "execution_count": 13,
     "metadata": {},
     "output_type": "execute_result"
    }
   ],
   "source": [
    "# Mathematical computation\n",
    "a = tf.constant(10)\n",
    "b = tf.constant(32)\n",
    "sess.run(a+b) "
   ]
  },
  {
   "cell_type": "code",
   "execution_count": null,
   "metadata": {},
   "outputs": [],
   "source": []
  },
  {
   "cell_type": "code",
   "execution_count": 14,
   "metadata": {},
   "outputs": [
    {
     "name": "stdout",
     "output_type": "stream",
     "text": [
      "[[135.09472808 102.36826182 141.74687066 155.23063288 128.7291475\n",
      "   55.19565332]\n",
      " [145.58062644 109.46805827 126.90519921 111.88885029 155.43589416\n",
      "   69.85525251]\n",
      " [ 50.49784672  47.16181955  52.88091571  61.95924572  50.32444512\n",
      "   22.03411643]]\n"
     ]
    }
   ],
   "source": [
    "import tensorflow as tf\n",
    "import numpy as np\n",
    "\n",
    "mat_1 = 10 * np.random.random_sample((3,4))\n",
    "mat_2 = 10 * np.random.random_sample((4,6)) \n",
    "\n",
    "# Creating a pair of constant ops, and including the above made matrices\n",
    "tf_mat_1 = tf.constant(mat_1)\n",
    "tf_mat_2 = tf.constant(mat_2)\n",
    "\n",
    "# Multiplying Tensorflow matrices with matrix multiplication operation\n",
    "tf_mat_prod = tf.matmul(tf_mat_1,tf_mat_2)\n",
    "\n",
    "sess = tf.Session()\n",
    "\n",
    "# run() executes required ops and performs the requests to store output in 'mult_matrix' variable\n",
    "mult_matrix = sess.run(tf_mat_prod)\n",
    "print(mult_matrix) "
   ]
  },
  {
   "cell_type": "code",
   "execution_count": 15,
   "metadata": {},
   "outputs": [
    {
     "name": "stdout",
     "output_type": "stream",
     "text": [
      "Addition of constant 10 and 20 is 52\n",
      "Subtraction of constant 10 and 20 is -12\n"
     ]
    }
   ],
   "source": [
    "# Performing constant operation with the addition and subtraction of two constants\n",
    "a = tf.constant(10) \n",
    "a = tf.constant(20)\n",
    "\n",
    "print(\"Addition of constant 10 and 20 is %i\" % sess.run(a+b))\n",
    "print(\"Subtraction of constant 10 and 20 is %i\" % sess.run(a-b)) "
   ]
  },
  {
   "cell_type": "code",
   "execution_count": 16,
   "metadata": {},
   "outputs": [],
   "source": [
    "# Closing the session\n",
    "sess.close() "
   ]
  },
  {
   "cell_type": "code",
   "execution_count": null,
   "metadata": {},
   "outputs": [],
   "source": []
  }
 ],
 "metadata": {
  "kernelspec": {
   "display_name": "Python 3.6 (tensorflow)",
   "language": "python",
   "name": "tensorflow"
  },
  "language_info": {
   "codemirror_mode": {
    "name": "ipython",
    "version": 3
   },
   "file_extension": ".py",
   "mimetype": "text/x-python",
   "name": "python",
   "nbconvert_exporter": "python",
   "pygments_lexer": "ipython3",
   "version": "3.6.8"
  }
 },
 "nbformat": 4,
 "nbformat_minor": 2
}

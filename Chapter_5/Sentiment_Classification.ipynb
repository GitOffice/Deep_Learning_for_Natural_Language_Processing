{
 "cells": [
  {
   "cell_type": "code",
   "execution_count": 1,
   "metadata": {},
   "outputs": [
    {
     "name": "stderr",
     "output_type": "stream",
     "text": [
      "Using TensorFlow backend.\n"
     ]
    }
   ],
   "source": [
    "from keras.datasets import imdb\n",
    "import tensorflow as tf"
   ]
  },
  {
   "cell_type": "code",
   "execution_count": 2,
   "metadata": {},
   "outputs": [
    {
     "name": "stdout",
     "output_type": "stream",
     "text": [
      "1.12.0\n"
     ]
    }
   ],
   "source": [
    "print(tf.__version__)"
   ]
  },
  {
   "cell_type": "code",
   "execution_count": 3,
   "metadata": {},
   "outputs": [],
   "source": [
    "from __future__ import print_function"
   ]
  },
  {
   "cell_type": "code",
   "execution_count": 4,
   "metadata": {},
   "outputs": [],
   "source": [
    "from tensorflow.python.ops import rnn,rnn_cell\n",
    "import pandas as pd\n",
    "import matplotlib.pyplot as plt\n",
    "%matplotlib inline"
   ]
  },
  {
   "cell_type": "code",
   "execution_count": 5,
   "metadata": {},
   "outputs": [
    {
     "name": "stdout",
     "output_type": "stream",
     "text": [
      "1.16.2\n"
     ]
    }
   ],
   "source": [
    "import numpy as np\n",
    "print(np.__version__)"
   ]
  },
  {
   "cell_type": "code",
   "execution_count": 6,
   "metadata": {},
   "outputs": [],
   "source": [
    "(X_train,y_train),(X_test,y_test) = imdb.load_data(path=\"imdb_full.pkl\",\n",
    "                                                  num_words=None,\n",
    "                                                  skip_top=0,\n",
    "                                                  maxlen=None,\n",
    "                                                  seed=113,\n",
    "                                                  start_char=1,\n",
    "                                                  oov_char=2,\n",
    "                                                  index_from=3) "
   ]
  },
  {
   "cell_type": "code",
   "execution_count": 7,
   "metadata": {},
   "outputs": [],
   "source": [
    "t = [item for sublist in X_train for item in sublist] "
   ]
  },
  {
   "cell_type": "code",
   "execution_count": 8,
   "metadata": {},
   "outputs": [],
   "source": [
    "vocabulary = len(set(t)) + 1 "
   ]
  },
  {
   "cell_type": "code",
   "execution_count": 9,
   "metadata": {},
   "outputs": [
    {
     "data": {
      "text/plain": [
       "[<matplotlib.lines.Line2D at 0x7fb35b818a90>]"
      ]
     },
     "execution_count": 9,
     "metadata": {},
     "output_type": "execute_result"
    },
    {
     "data": {
      "image/png": "[encoded data removed]",
      "text/plain": [
       "<Figure size 432x288 with 1 Axes>"
      ]
     },
     "metadata": {
      "needs_background": "light"
     },
     "output_type": "display_data"
    }
   ],
   "source": [
    "a = [len(x) for x in X_train]\n",
    "plt.plot(a) "
   ]
  },
  {
   "cell_type": "code",
   "execution_count": 10,
   "metadata": {},
   "outputs": [],
   "source": [
    "max_length  = 200 \n",
    "x_filter = []\n",
    "y_filter = []\n",
    "\n",
    "for i in range(len(X_train)):\n",
    "    if len(X_train[i]) < max_length:\n",
    "        a = len(X_train[i])\n",
    "        X_train[i] = X_train[i] + [0] * (max_length - a)\n",
    "        x_filter.append(X_train[i])\n",
    "        y_filter.append(y_train[i])\n",
    "    elif len(X_train[i]) > max_length:\n",
    "        X_train[i] = X_train[i][0:max_length] "
   ]
  },
  {
   "cell_type": "code",
   "execution_count": 11,
   "metadata": {},
   "outputs": [],
   "source": [
    "# declaring the hyper params\n",
    "embedding_size = 100\n",
    "n_hidden = 200 \n",
    "learning_rate = 0.06 \n",
    "training_iters = 100000 \n",
    "batch_size = 32 \n",
    "beta = 0.0001 "
   ]
  },
  {
   "cell_type": "code",
   "execution_count": 12,
   "metadata": {},
   "outputs": [],
   "source": [
    "n_steps = max_length\n",
    "n_classes = 2 \n",
    "da = 350 \n",
    "r =30 \n",
    "display_step = 10 \n",
    "hidden_units = 3000 "
   ]
  },
  {
   "cell_type": "code",
   "execution_count": 13,
   "metadata": {},
   "outputs": [],
   "source": [
    "y_train = np.asarray(pd.get_dummies(y_filter))\n",
    "X_train = np.asarray([np.asarray(g) for g in x_filter]) "
   ]
  },
  {
   "cell_type": "code",
   "execution_count": 14,
   "metadata": {},
   "outputs": [],
   "source": [
    "logs_path = './recent_logs'"
   ]
  },
  {
   "cell_type": "code",
   "execution_count": 15,
   "metadata": {},
   "outputs": [],
   "source": [
    "class DataIterator:\n",
    "    def __init__(self,data1,data2,batch_size):\n",
    "        self.data1 = data1\n",
    "        self.data2 = data2\n",
    "        self.batch_size = batch_size\n",
    "        self.iter = self.make_random_iter()\n",
    "        \n",
    "    def next_batch(self):\n",
    "        try:\n",
    "            idxs = next(self.iter)\n",
    "        except StopIteration:\n",
    "            self.iter = self.make_random_iter()\n",
    "            idxs = next(self.iter)\n",
    "        X = [self.data1[i] for i in idxs]\n",
    "        Y = [self.data2[i] for i in idxs]\n",
    "        \n",
    "        X = np.array(X)\n",
    "        Y = np.array(Y)\n",
    "        return X,Y\n",
    "    \n",
    "    def make_random_iter(self):\n",
    "        splits = np.arange(self.batch_size,len(self.data1),self.batch_size)\n",
    "        it = np.split(np.random.permutation(range(len(self.data1))),splits)[:-1]\n",
    "        return iter(it) "
   ]
  },
  {
   "cell_type": "code",
   "execution_count": 16,
   "metadata": {},
   "outputs": [],
   "source": [
    "with tf.name_scope(\"weights\"):\n",
    "    Win = tf.Variable(tf.random_uniform([n_hidden*r,hidden_units],-1/np.sqrt(n_hidden),1/np.sqrt(n_hidden)),name='W-input')\n",
    "    Wout = tf.Variable(tf.random_uniform([hidden_units,n_classes],-1/np.sqrt(hidden_units),1/np.sqrt(hidden_units)),name='W-out')\n",
    "    Ws1 = tf.Variable(tf.random_uniform([da,n_hidden],1/np.sqrt(da)),name='Ws1')\n",
    "    Ws2 = tf.Variable(tf.random_uniform([r,da],-1/np.sqrt(r)),name='Ws2')"
   ]
  },
  {
   "cell_type": "code",
   "execution_count": 17,
   "metadata": {},
   "outputs": [],
   "source": [
    "with tf.name_scope('biases'):\n",
    "    biasesout = tf.Variable(tf.random_normal([n_classes]),name='biases-out')\n",
    "    biasesin = tf.Variable(tf.random_normal([hidden_units]),name='biases-in')"
   ]
  },
  {
   "cell_type": "code",
   "execution_count": 18,
   "metadata": {},
   "outputs": [],
   "source": [
    "with tf.name_scope('input'):\n",
    "    x = tf.placeholder(\"int32\",[32,max_length],name='x-input')\n",
    "    y = tf.placeholder(\"int32\",[32,2],name='y-input')"
   ]
  },
  {
   "cell_type": "code",
   "execution_count": 19,
   "metadata": {},
   "outputs": [],
   "source": [
    "with tf.name_scope('embedding'):\n",
    "    embeddings = tf.Variable(tf.random_uniform([vocabulary,embedding_size],-1,1),name='embeddings')\n",
    "    embed = tf.nn.embedding_lookup(embeddings,x) "
   ]
  },
  {
   "cell_type": "code",
   "execution_count": 20,
   "metadata": {},
   "outputs": [],
   "source": [
    "def length(sequence):\n",
    "    used = tf.sign(tf.reduce_max(tf.abs(sequence),reduction_indices=2))\n",
    "    \n",
    "    length = tf.reduce_sum(used,reduction_indices=1)\n",
    "    length = tf.cast(length,tf.int32)\n",
    "    return length"
   ]
  },
  {
   "cell_type": "code",
   "execution_count": 21,
   "metadata": {},
   "outputs": [],
   "source": [
    "with tf.variable_scope('forward',reuse=True):\n",
    "    lstm_fw_cell = tf.nn.rnn_cell.LSTMCell(n_hidden)"
   ]
  },
  {
   "cell_type": "code",
   "execution_count": 22,
   "metadata": {},
   "outputs": [],
   "source": [
    "with tf.name_scope('model'):\n",
    "    outputs,states = rnn.dynamic_rnn(lstm_fw_cell,embed,sequence_length=length(embed),dtype=tf.float32,time_major=False)\n",
    "    h = tf.nn.tanh(tf.transpose(tf.reshape(tf.matmul(Ws1,tf.reshape(outputs,[n_hidden,batch_size*n_steps])),\n",
    "                                          [da,batch_size,n_steps]),[1,0,2]))\n",
    "    a = tf.reshape(tf.matmul(Ws2,tf.reshape(h,[da,batch_size*n_steps])),[batch_size,r,n_steps])\n",
    "    def fn3(a,x):\n",
    "        return tf.nn.softmax(x)\n",
    "    h3 = tf.scan(fn3,a) "
   ]
  },
  {
   "cell_type": "code",
   "execution_count": 23,
   "metadata": {},
   "outputs": [],
   "source": [
    "with tf.name_scope('flattening'):\n",
    "    h4 = tf.matmul(h3,outputs)\n",
    "    last = tf.reshape(h4,[-1,r*n_hidden]) "
   ]
  },
  {
   "cell_type": "code",
   "execution_count": 24,
   "metadata": {},
   "outputs": [],
   "source": [
    "with tf.name_scope('MLP'):\n",
    "    tf.nn.dropout(last,.5,noise_shape=None,seed=None,name=None)\n",
    "    pred1 = tf.nn.sigmoid(tf.matmul(last,Win)+biasesin)\n",
    "    pred = tf.matmul(pred1,Wout) + biasesout"
   ]
  },
  {
   "cell_type": "code",
   "execution_count": 25,
   "metadata": {},
   "outputs": [
    {
     "name": "stdout",
     "output_type": "stream",
     "text": [
      "WARNING:tensorflow:From <ipython-input-25-42ef32ec4ee7>:2: softmax_cross_entropy_with_logits (from tensorflow.python.ops.nn_ops) is deprecated and will be removed in a future version.\n",
      "Instructions for updating:\n",
      "\n",
      "Future major versions of TensorFlow will allow gradients to flow\n",
      "into the labels input on backprop by default.\n",
      "\n",
      "See `tf.nn.softmax_cross_entropy_with_logits_v2`.\n",
      "\n"
     ]
    }
   ],
   "source": [
    "with tf.name_scope('cross'):\n",
    "    cost = tf.reduce_mean(tf.nn.softmax_cross_entropy_with_logits(logits=pred,labels=y)+beta*tf.nn.l2_loss(Ws2))   "
   ]
  },
  {
   "cell_type": "code",
   "execution_count": 26,
   "metadata": {},
   "outputs": [],
   "source": [
    "with tf.name_scope('train'):\n",
    "    optimizer = tf.train.AdamOptimizer(learning_rate=learning_rate)\n",
    "    gvs = optimizer.compute_gradients(cost)\n",
    "    capped_gvs = [(tf.clip_by_norm(grad,0.5),var) for grad,var in gvs]\n",
    "    optimizer.apply_gradients(capped_gvs)\n",
    "    optimized = optimizer.minimize(cost) "
   ]
  },
  {
   "cell_type": "code",
   "execution_count": 27,
   "metadata": {},
   "outputs": [],
   "source": [
    "with tf.name_scope('Accuracy'):\n",
    "    correct_pred = tf.equal(tf.argmax(pred,1),tf.argmax(y,1))\n",
    "    accuracy = tf.reduce_mean(tf.cast(correct_pred,tf.float32)) "
   ]
  },
  {
   "cell_type": "code",
   "execution_count": 28,
   "metadata": {},
   "outputs": [
    {
     "data": {
      "text/plain": [
       "<tf.Tensor 'accuracy_1:0' shape=() dtype=string>"
      ]
     },
     "execution_count": 28,
     "metadata": {},
     "output_type": "execute_result"
    }
   ],
   "source": [
    "tf.summary.scalar(\"cost\",cost)\n",
    "tf.summary.scalar(\"accuracy\",accuracy) "
   ]
  },
  {
   "cell_type": "code",
   "execution_count": 29,
   "metadata": {},
   "outputs": [],
   "source": [
    "summary_op = tf.summary.merge_all() "
   ]
  },
  {
   "cell_type": "code",
   "execution_count": 30,
   "metadata": {},
   "outputs": [],
   "source": [
    "train_iter = DataIterator(X_train,y_train,batch_size)\n",
    "init = tf.global_variables_initializer() "
   ]
  },
  {
   "cell_type": "code",
   "execution_count": 34,
   "metadata": {},
   "outputs": [
    {
     "name": "stdout",
     "output_type": "stream",
     "text": [
      "Iter 64, Minibatch Loss= 17.535246, Training Accuracy= 50.00%\n",
      "Iter 384, Minibatch Loss= 44.965031, Training Accuracy= 50.00%\n",
      "Iter 704, Minibatch Loss= 33.932579, Training Accuracy= 53.12%\n",
      "Iter 1024, Minibatch Loss= 8.257021, Training Accuracy= 56.25%\n",
      "Iter 1344, Minibatch Loss= 24.839247, Training Accuracy= 37.50%\n",
      "Iter 1664, Minibatch Loss= 5.613566, Training Accuracy= 56.25%\n",
      "Iter 1984, Minibatch Loss= 20.405418, Training Accuracy= 46.88%\n",
      "Iter 2304, Minibatch Loss= 5.527768, Training Accuracy= 56.25%\n",
      "Iter 2624, Minibatch Loss= 18.573048, Training Accuracy= 46.88%\n",
      "Iter 2944, Minibatch Loss= 29.602596, Training Accuracy= 46.88%\n",
      "Iter 3264, Minibatch Loss= 34.473885, Training Accuracy= 43.75%\n",
      "Iter 3584, Minibatch Loss= 13.020053, Training Accuracy= 56.25%\n",
      "Iter 3904, Minibatch Loss= 7.984556, Training Accuracy= 53.12%\n",
      "Iter 4224, Minibatch Loss= 5.199084, Training Accuracy= 53.12%\n",
      "Iter 4544, Minibatch Loss= 7.820098, Training Accuracy= 46.88%\n",
      "Iter 4864, Minibatch Loss= 3.158295, Training Accuracy= 46.88%\n",
      "Iter 5184, Minibatch Loss= 8.077681, Training Accuracy= 75.00%\n",
      "Iter 5504, Minibatch Loss= 2.545912, Training Accuracy= 43.75%\n",
      "Iter 5824, Minibatch Loss= 15.499278, Training Accuracy= 34.38%\n",
      "Iter 6144, Minibatch Loss= 15.008638, Training Accuracy= 43.75%\n",
      "Iter 6464, Minibatch Loss= 10.098028, Training Accuracy= 62.50%\n",
      "Iter 6784, Minibatch Loss= 10.408873, Training Accuracy= 65.62%\n",
      "Iter 7104, Minibatch Loss= 28.802982, Training Accuracy= 46.88%\n",
      "Iter 7424, Minibatch Loss= 39.565514, Training Accuracy= 43.75%\n",
      "Iter 7744, Minibatch Loss= 27.216726, Training Accuracy= 56.25%\n",
      "Iter 8064, Minibatch Loss= 15.015453, Training Accuracy= 62.50%\n",
      "Iter 8384, Minibatch Loss= 5.944937, Training Accuracy= 56.25%\n",
      "Iter 8704, Minibatch Loss= 6.568155, Training Accuracy= 40.62%\n",
      "Iter 9024, Minibatch Loss= 11.824574, Training Accuracy= 62.50%\n",
      "Iter 9344, Minibatch Loss= 17.876730, Training Accuracy= 56.25%\n",
      "Iter 9664, Minibatch Loss= 4.434173, Training Accuracy= 56.25%\n",
      "Iter 9984, Minibatch Loss= 15.529695, Training Accuracy= 46.88%\n",
      "Iter 10304, Minibatch Loss= 6.289638, Training Accuracy= 43.75%\n",
      "Iter 10624, Minibatch Loss= 13.742834, Training Accuracy= 46.88%\n",
      "Iter 10944, Minibatch Loss= 9.564969, Training Accuracy= 68.75%\n",
      "Iter 11264, Minibatch Loss= 7.536999, Training Accuracy= 43.75%\n",
      "Iter 11584, Minibatch Loss= 5.322386, Training Accuracy= 50.00%\n",
      "Iter 11904, Minibatch Loss= 20.951012, Training Accuracy= 59.38%\n",
      "Iter 12224, Minibatch Loss= 26.394848, Training Accuracy= 50.00%\n",
      "Iter 12544, Minibatch Loss= 7.341204, Training Accuracy= 53.12%\n",
      "Iter 12864, Minibatch Loss= 1.652851, Training Accuracy= 62.50%\n",
      "Iter 13184, Minibatch Loss= 5.279025, Training Accuracy= 56.25%\n",
      "Iter 13504, Minibatch Loss= 11.769241, Training Accuracy= 65.62%\n",
      "Iter 13824, Minibatch Loss= 17.502899, Training Accuracy= 53.12%\n",
      "Iter 14144, Minibatch Loss= 27.380539, Training Accuracy= 59.38%\n",
      "Iter 14464, Minibatch Loss= 15.037024, Training Accuracy= 53.12%\n",
      "Iter 14784, Minibatch Loss= 1.510816, Training Accuracy= 50.00%\n",
      "Iter 15104, Minibatch Loss= 3.939610, Training Accuracy= 53.12%\n",
      "Iter 15424, Minibatch Loss= 8.641228, Training Accuracy= 53.12%\n",
      "Iter 15744, Minibatch Loss= 27.737640, Training Accuracy= 62.50%\n",
      "Iter 16064, Minibatch Loss= 20.450687, Training Accuracy= 43.75%\n",
      "Iter 16384, Minibatch Loss= 17.899136, Training Accuracy= 40.62%\n",
      "Iter 16704, Minibatch Loss= 9.890913, Training Accuracy= 56.25%\n",
      "Iter 17024, Minibatch Loss= 20.006128, Training Accuracy= 50.00%\n",
      "Iter 17344, Minibatch Loss= 36.284271, Training Accuracy= 34.38%\n",
      "Iter 17664, Minibatch Loss= 23.424923, Training Accuracy= 50.00%\n",
      "Iter 17984, Minibatch Loss= 4.273010, Training Accuracy= 62.50%\n",
      "Iter 18304, Minibatch Loss= 16.397829, Training Accuracy= 46.88%\n",
      "Iter 18624, Minibatch Loss= 9.720943, Training Accuracy= 50.00%\n",
      "Iter 18944, Minibatch Loss= 3.298427, Training Accuracy= 46.88%\n",
      "Iter 19264, Minibatch Loss= 12.753351, Training Accuracy= 59.38%\n",
      "Iter 19584, Minibatch Loss= 6.135378, Training Accuracy= 50.00%\n",
      "Iter 19904, Minibatch Loss= 23.873634, Training Accuracy= 31.25%\n",
      "Iter 20224, Minibatch Loss= 17.907475, Training Accuracy= 56.25%\n",
      "Iter 20544, Minibatch Loss= 3.586796, Training Accuracy= 56.25%\n",
      "Iter 20864, Minibatch Loss= 15.350352, Training Accuracy= 62.50%\n",
      "Iter 21184, Minibatch Loss= 2.391934, Training Accuracy= 34.38%\n",
      "Iter 21504, Minibatch Loss= 6.581500, Training Accuracy= 53.12%\n",
      "Iter 21824, Minibatch Loss= 2.831348, Training Accuracy= 53.12%\n",
      "Iter 22144, Minibatch Loss= 11.903221, Training Accuracy= 43.75%\n",
      "Iter 22464, Minibatch Loss= 4.561800, Training Accuracy= 59.38%\n",
      "Iter 22784, Minibatch Loss= 10.646049, Training Accuracy= 68.75%\n",
      "Iter 23104, Minibatch Loss= 11.574767, Training Accuracy= 56.25%\n",
      "Iter 23424, Minibatch Loss= 15.733418, Training Accuracy= 56.25%\n",
      "Iter 23744, Minibatch Loss= 24.510223, Training Accuracy= 46.88%\n",
      "Iter 24064, Minibatch Loss= 35.189461, Training Accuracy= 46.88%\n",
      "Iter 24384, Minibatch Loss= 35.545097, Training Accuracy= 43.75%\n",
      "Iter 24704, Minibatch Loss= 24.002623, Training Accuracy= 53.12%\n",
      "Iter 25024, Minibatch Loss= 50.622955, Training Accuracy= 43.75%\n",
      "Iter 25344, Minibatch Loss= 3.012216, Training Accuracy= 46.88%\n",
      "Iter 25664, Minibatch Loss= 8.567302, Training Accuracy= 50.00%\n",
      "Iter 25984, Minibatch Loss= 8.242495, Training Accuracy= 53.12%\n",
      "Iter 26304, Minibatch Loss= 8.027637, Training Accuracy= 65.62%\n",
      "Iter 26624, Minibatch Loss= 6.659829, Training Accuracy= 40.62%\n",
      "Iter 26944, Minibatch Loss= 9.651891, Training Accuracy= 46.88%\n",
      "Iter 27264, Minibatch Loss= 3.401053, Training Accuracy= 43.75%\n",
      "Iter 27584, Minibatch Loss= 23.587772, Training Accuracy= 50.00%\n",
      "Iter 27904, Minibatch Loss= 4.485902, Training Accuracy= 50.00%\n",
      "Iter 28224, Minibatch Loss= 13.118986, Training Accuracy= 46.88%\n",
      "Iter 28544, Minibatch Loss= 14.410769, Training Accuracy= 37.50%\n",
      "Iter 28864, Minibatch Loss= 9.023668, Training Accuracy= 43.75%\n",
      "Iter 29184, Minibatch Loss= 12.697077, Training Accuracy= 50.00%\n",
      "Iter 29504, Minibatch Loss= 29.799971, Training Accuracy= 43.75%\n",
      "Iter 29824, Minibatch Loss= 6.904250, Training Accuracy= 59.38%\n",
      "Iter 30144, Minibatch Loss= 6.883192, Training Accuracy= 46.88%\n",
      "Iter 30464, Minibatch Loss= 1.976935, Training Accuracy= 40.62%\n",
      "Iter 30784, Minibatch Loss= 0.779164, Training Accuracy= 43.75%\n",
      "Iter 31104, Minibatch Loss= 2.028672, Training Accuracy= 46.88%\n",
      "Iter 31424, Minibatch Loss= 1.292887, Training Accuracy= 56.25%\n",
      "Iter 31744, Minibatch Loss= 5.400048, Training Accuracy= 43.75%\n",
      "Iter 32064, Minibatch Loss= 14.783754, Training Accuracy= 53.12%\n",
      "Iter 32384, Minibatch Loss= 13.384201, Training Accuracy= 46.88%\n",
      "Iter 32704, Minibatch Loss= 19.228485, Training Accuracy= 46.88%\n",
      "Iter 33024, Minibatch Loss= 16.695820, Training Accuracy= 50.00%\n",
      "Iter 33344, Minibatch Loss= 4.133802, Training Accuracy= 59.38%\n",
      "Iter 33664, Minibatch Loss= 5.863837, Training Accuracy= 65.62%\n",
      "Iter 33984, Minibatch Loss= 32.376442, Training Accuracy= 46.88%\n",
      "Iter 34304, Minibatch Loss= 17.717468, Training Accuracy= 46.88%\n",
      "Iter 34624, Minibatch Loss= 5.300380, Training Accuracy= 53.12%\n",
      "Iter 34944, Minibatch Loss= 35.504848, Training Accuracy= 46.88%\n",
      "Iter 35264, Minibatch Loss= 9.115853, Training Accuracy= 62.50%\n",
      "Iter 35584, Minibatch Loss= 11.998707, Training Accuracy= 43.75%\n",
      "Iter 35904, Minibatch Loss= 0.901166, Training Accuracy= 40.62%\n",
      "Iter 36224, Minibatch Loss= 4.673072, Training Accuracy= 59.38%\n",
      "Iter 36544, Minibatch Loss= 4.419613, Training Accuracy= 65.62%\n",
      "Iter 36864, Minibatch Loss= 23.497288, Training Accuracy= 34.38%\n",
      "Iter 37184, Minibatch Loss= 0.786553, Training Accuracy= 43.75%\n",
      "Iter 37504, Minibatch Loss= 14.852895, Training Accuracy= 40.62%\n",
      "Iter 37824, Minibatch Loss= 12.184511, Training Accuracy= 43.75%\n",
      "Iter 38144, Minibatch Loss= 12.094361, Training Accuracy= 56.25%\n",
      "Iter 38464, Minibatch Loss= 1.622971, Training Accuracy= 40.62%\n",
      "Iter 38784, Minibatch Loss= 17.004318, Training Accuracy= 40.62%\n",
      "Iter 39104, Minibatch Loss= 4.531135, Training Accuracy= 59.38%\n",
      "Iter 39424, Minibatch Loss= 21.023300, Training Accuracy= 40.62%\n",
      "Iter 39744, Minibatch Loss= 32.937202, Training Accuracy= 53.12%\n",
      "Iter 40064, Minibatch Loss= 42.676964, Training Accuracy= 53.12%\n",
      "Iter 40384, Minibatch Loss= 20.642891, Training Accuracy= 43.75%\n",
      "Iter 40704, Minibatch Loss= 21.335934, Training Accuracy= 50.00%\n"
     ]
    },
    {
     "name": "stdout",
     "output_type": "stream",
     "text": [
      "Iter 41024, Minibatch Loss= 1.193390, Training Accuracy= 56.25%\n",
      "Iter 41344, Minibatch Loss= 11.385191, Training Accuracy= 53.12%\n",
      "Iter 41664, Minibatch Loss= 4.226768, Training Accuracy= 59.38%\n",
      "Iter 41984, Minibatch Loss= 0.744679, Training Accuracy= 43.75%\n",
      "Iter 42304, Minibatch Loss= 8.150616, Training Accuracy= 46.88%\n",
      "Iter 42624, Minibatch Loss= 8.553251, Training Accuracy= 59.38%\n",
      "Iter 42944, Minibatch Loss= 2.573560, Training Accuracy= 53.12%\n",
      "Iter 43264, Minibatch Loss= 14.710289, Training Accuracy= 59.38%\n",
      "Iter 43584, Minibatch Loss= 12.511387, Training Accuracy= 46.88%\n",
      "Iter 43904, Minibatch Loss= 19.932281, Training Accuracy= 59.38%\n",
      "Iter 44224, Minibatch Loss= 5.673762, Training Accuracy= 40.62%\n",
      "Iter 44544, Minibatch Loss= 21.306601, Training Accuracy= 59.38%\n",
      "Iter 44864, Minibatch Loss= 15.287939, Training Accuracy= 53.12%\n",
      "Iter 45184, Minibatch Loss= 0.989928, Training Accuracy= 50.00%\n",
      "Iter 45504, Minibatch Loss= 8.017136, Training Accuracy= 56.25%\n",
      "Iter 45824, Minibatch Loss= 3.185121, Training Accuracy= 43.75%\n",
      "Iter 46144, Minibatch Loss= 9.590856, Training Accuracy= 59.38%\n",
      "Iter 46464, Minibatch Loss= 8.927942, Training Accuracy= 62.50%\n",
      "Iter 46784, Minibatch Loss= 4.653939, Training Accuracy= 37.50%\n",
      "Iter 47104, Minibatch Loss= 24.112816, Training Accuracy= 50.00%\n",
      "Iter 47424, Minibatch Loss= 5.232939, Training Accuracy= 40.62%\n",
      "Iter 47744, Minibatch Loss= 10.318232, Training Accuracy= 50.00%\n",
      "Iter 48064, Minibatch Loss= 47.380692, Training Accuracy= 34.38%\n",
      "Iter 48384, Minibatch Loss= 21.246044, Training Accuracy= 50.00%\n",
      "Iter 48704, Minibatch Loss= 18.910236, Training Accuracy= 56.25%\n",
      "Iter 49024, Minibatch Loss= 5.856133, Training Accuracy= 53.12%\n",
      "Iter 49344, Minibatch Loss= 4.471401, Training Accuracy= 53.12%\n",
      "Iter 49664, Minibatch Loss= 1.758750, Training Accuracy= 46.88%\n",
      "Iter 49984, Minibatch Loss= 9.761005, Training Accuracy= 46.88%\n",
      "Iter 50304, Minibatch Loss= 28.370836, Training Accuracy= 53.12%\n",
      "Iter 50624, Minibatch Loss= 24.993351, Training Accuracy= 53.12%\n",
      "Iter 50944, Minibatch Loss= 26.159306, Training Accuracy= 56.25%\n",
      "Iter 51264, Minibatch Loss= 27.837391, Training Accuracy= 56.25%\n",
      "Iter 51584, Minibatch Loss= 11.137848, Training Accuracy= 59.38%\n",
      "Iter 51904, Minibatch Loss= 9.350665, Training Accuracy= 43.75%\n",
      "Iter 52224, Minibatch Loss= 2.981361, Training Accuracy= 59.38%\n",
      "Iter 52544, Minibatch Loss= 0.670085, Training Accuracy= 62.50%\n",
      "Iter 52864, Minibatch Loss= 4.581450, Training Accuracy= 59.38%\n",
      "Iter 53184, Minibatch Loss= 8.051987, Training Accuracy= 46.88%\n",
      "Iter 53504, Minibatch Loss= 0.799498, Training Accuracy= 50.00%\n",
      "Iter 53824, Minibatch Loss= 8.449479, Training Accuracy= 56.25%\n",
      "Iter 54144, Minibatch Loss= 6.967780, Training Accuracy= 40.62%\n",
      "Iter 54464, Minibatch Loss= 14.270636, Training Accuracy= 46.88%\n",
      "Iter 54784, Minibatch Loss= 6.838820, Training Accuracy= 43.75%\n",
      "Iter 55104, Minibatch Loss= 11.545241, Training Accuracy= 53.12%\n",
      "Iter 55424, Minibatch Loss= 26.647957, Training Accuracy= 50.00%\n",
      "Iter 55744, Minibatch Loss= 15.102031, Training Accuracy= 40.62%\n",
      "Iter 56064, Minibatch Loss= 4.225500, Training Accuracy= 62.50%\n",
      "Iter 56384, Minibatch Loss= 0.719111, Training Accuracy= 59.38%\n",
      "Iter 56704, Minibatch Loss= 19.998671, Training Accuracy= 59.38%\n",
      "Iter 57024, Minibatch Loss= 10.368956, Training Accuracy= 68.75%\n",
      "Iter 57344, Minibatch Loss= 24.879780, Training Accuracy= 56.25%\n",
      "Iter 57664, Minibatch Loss= 35.639915, Training Accuracy= 53.12%\n",
      "Iter 57984, Minibatch Loss= 24.468399, Training Accuracy= 37.50%\n",
      "Iter 58304, Minibatch Loss= 16.577986, Training Accuracy= 53.12%\n",
      "Iter 58624, Minibatch Loss= 26.510420, Training Accuracy= 62.50%\n",
      "Iter 58944, Minibatch Loss= 23.994020, Training Accuracy= 65.62%\n",
      "Iter 59264, Minibatch Loss= 39.914200, Training Accuracy= 46.88%\n",
      "Iter 59584, Minibatch Loss= 24.243626, Training Accuracy= 34.38%\n",
      "Iter 59904, Minibatch Loss= 12.376554, Training Accuracy= 46.88%\n",
      "Iter 60224, Minibatch Loss= 2.861420, Training Accuracy= 43.75%\n",
      "Iter 60544, Minibatch Loss= 2.680322, Training Accuracy= 53.12%\n",
      "Iter 60864, Minibatch Loss= 3.465962, Training Accuracy= 50.00%\n",
      "Iter 61184, Minibatch Loss= 5.116811, Training Accuracy= 50.00%\n",
      "Iter 61504, Minibatch Loss= 0.735885, Training Accuracy= 34.38%\n",
      "Iter 61824, Minibatch Loss= 13.879095, Training Accuracy= 40.62%\n",
      "Iter 62144, Minibatch Loss= 2.323737, Training Accuracy= 53.12%\n",
      "Iter 62464, Minibatch Loss= 1.360445, Training Accuracy= 40.62%\n",
      "Iter 62784, Minibatch Loss= 21.506563, Training Accuracy= 59.38%\n",
      "Iter 63104, Minibatch Loss= 10.718124, Training Accuracy= 56.25%\n",
      "Iter 63424, Minibatch Loss= 0.815481, Training Accuracy= 50.00%\n",
      "Iter 63744, Minibatch Loss= 11.267294, Training Accuracy= 50.00%\n",
      "Iter 64064, Minibatch Loss= 7.477906, Training Accuracy= 46.88%\n",
      "Iter 64384, Minibatch Loss= 2.908692, Training Accuracy= 50.00%\n",
      "Iter 64704, Minibatch Loss= 0.882892, Training Accuracy= 56.25%\n",
      "Iter 65024, Minibatch Loss= 1.846676, Training Accuracy= 34.38%\n",
      "Iter 65344, Minibatch Loss= 0.793009, Training Accuracy= 28.12%\n",
      "Iter 65664, Minibatch Loss= 5.298957, Training Accuracy= 62.50%\n",
      "Iter 65984, Minibatch Loss= 13.743422, Training Accuracy= 56.25%\n",
      "Iter 66304, Minibatch Loss= 0.706472, Training Accuracy= 56.25%\n",
      "Iter 66624, Minibatch Loss= 1.377787, Training Accuracy= 62.50%\n",
      "Iter 66944, Minibatch Loss= 16.070414, Training Accuracy= 46.88%\n",
      "Iter 67264, Minibatch Loss= 8.570965, Training Accuracy= 53.12%\n",
      "Iter 67584, Minibatch Loss= 11.958618, Training Accuracy= 46.88%\n",
      "Iter 67904, Minibatch Loss= 4.294238, Training Accuracy= 56.25%\n",
      "Iter 68224, Minibatch Loss= 9.325254, Training Accuracy= 53.12%\n",
      "Iter 68544, Minibatch Loss= 5.129751, Training Accuracy= 50.00%\n",
      "Iter 68864, Minibatch Loss= 11.694201, Training Accuracy= 37.50%\n",
      "Iter 69184, Minibatch Loss= 2.073716, Training Accuracy= 50.00%\n",
      "Iter 69504, Minibatch Loss= 10.240929, Training Accuracy= 53.12%\n",
      "Iter 69824, Minibatch Loss= 14.972909, Training Accuracy= 56.25%\n",
      "Iter 70144, Minibatch Loss= 8.086793, Training Accuracy= 59.38%\n",
      "Iter 70464, Minibatch Loss= 16.780817, Training Accuracy= 56.25%\n",
      "Iter 70784, Minibatch Loss= 3.697155, Training Accuracy= 65.62%\n",
      "Iter 71104, Minibatch Loss= 15.606598, Training Accuracy= 59.38%\n",
      "Iter 71424, Minibatch Loss= 8.549047, Training Accuracy= 50.00%\n",
      "Iter 71744, Minibatch Loss= 9.839442, Training Accuracy= 43.75%\n",
      "Iter 72064, Minibatch Loss= 0.787000, Training Accuracy= 46.88%\n",
      "Iter 72384, Minibatch Loss= 10.659541, Training Accuracy= 43.75%\n",
      "Iter 72704, Minibatch Loss= 1.442110, Training Accuracy= 56.25%\n",
      "Iter 73024, Minibatch Loss= 7.789529, Training Accuracy= 59.38%\n",
      "Iter 73344, Minibatch Loss= 16.181517, Training Accuracy= 40.62%\n",
      "Iter 73664, Minibatch Loss= 25.596169, Training Accuracy= 40.62%\n",
      "Iter 73984, Minibatch Loss= 15.032666, Training Accuracy= 40.62%\n",
      "Iter 74304, Minibatch Loss= 2.751857, Training Accuracy= 50.00%\n",
      "Iter 74624, Minibatch Loss= 2.503513, Training Accuracy= 56.25%\n",
      "Iter 74944, Minibatch Loss= 12.954187, Training Accuracy= 56.25%\n",
      "Iter 75264, Minibatch Loss= 11.229446, Training Accuracy= 56.25%\n",
      "Iter 75584, Minibatch Loss= 8.678778, Training Accuracy= 46.88%\n",
      "Iter 75904, Minibatch Loss= 6.786606, Training Accuracy= 53.12%\n",
      "Iter 76224, Minibatch Loss= 6.384160, Training Accuracy= 43.75%\n",
      "Iter 76544, Minibatch Loss= 15.855406, Training Accuracy= 40.62%\n",
      "Iter 76864, Minibatch Loss= 2.283838, Training Accuracy= 46.88%\n",
      "Iter 77184, Minibatch Loss= 1.555531, Training Accuracy= 59.38%\n",
      "Iter 77504, Minibatch Loss= 3.508013, Training Accuracy= 43.75%\n",
      "Iter 77824, Minibatch Loss= 17.221874, Training Accuracy= 37.50%\n",
      "Iter 78144, Minibatch Loss= 4.668246, Training Accuracy= 53.12%\n",
      "Iter 78464, Minibatch Loss= 3.092018, Training Accuracy= 65.62%\n",
      "Iter 78784, Minibatch Loss= 8.325315, Training Accuracy= 59.38%\n",
      "Iter 79104, Minibatch Loss= 8.692702, Training Accuracy= 53.12%\n",
      "Iter 79424, Minibatch Loss= 17.969006, Training Accuracy= 53.12%\n",
      "Iter 79744, Minibatch Loss= 11.446769, Training Accuracy= 53.12%\n",
      "Iter 80064, Minibatch Loss= 19.381599, Training Accuracy= 46.88%\n",
      "Iter 80384, Minibatch Loss= 5.583399, Training Accuracy= 40.62%\n",
      "Iter 80704, Minibatch Loss= 23.031937, Training Accuracy= 59.38%\n",
      "Iter 81024, Minibatch Loss= 22.124565, Training Accuracy= 46.88%\n",
      "Iter 81344, Minibatch Loss= 19.904331, Training Accuracy= 56.25%\n",
      "Iter 81664, Minibatch Loss= 10.737139, Training Accuracy= 40.62%\n"
     ]
    },
    {
     "name": "stdout",
     "output_type": "stream",
     "text": [
      "Iter 81984, Minibatch Loss= 11.568510, Training Accuracy= 50.00%\n",
      "Iter 82304, Minibatch Loss= 17.280609, Training Accuracy= 50.00%\n",
      "Iter 82624, Minibatch Loss= 6.370775, Training Accuracy= 50.00%\n",
      "Iter 82944, Minibatch Loss= 5.910687, Training Accuracy= 53.12%\n",
      "Iter 83264, Minibatch Loss= 3.990377, Training Accuracy= 65.62%\n",
      "Iter 83584, Minibatch Loss= 13.615839, Training Accuracy= 65.62%\n",
      "Iter 83904, Minibatch Loss= 20.126209, Training Accuracy= 59.38%\n",
      "Iter 84224, Minibatch Loss= 20.488033, Training Accuracy= 50.00%\n",
      "Iter 84544, Minibatch Loss= 14.598964, Training Accuracy= 50.00%\n",
      "Iter 84864, Minibatch Loss= 0.943670, Training Accuracy= 53.12%\n",
      "Iter 85184, Minibatch Loss= 11.788865, Training Accuracy= 53.12%\n",
      "Iter 85504, Minibatch Loss= 5.947331, Training Accuracy= 62.50%\n",
      "Iter 85824, Minibatch Loss= 14.755472, Training Accuracy= 50.00%\n",
      "Iter 86144, Minibatch Loss= 5.578073, Training Accuracy= 53.12%\n",
      "Iter 86464, Minibatch Loss= 18.994911, Training Accuracy= 50.00%\n",
      "Iter 86784, Minibatch Loss= 19.760405, Training Accuracy= 43.75%\n",
      "Iter 87104, Minibatch Loss= 5.989168, Training Accuracy= 46.88%\n",
      "Iter 87424, Minibatch Loss= 0.777365, Training Accuracy= 59.38%\n",
      "Iter 87744, Minibatch Loss= 2.930994, Training Accuracy= 37.50%\n",
      "Iter 88064, Minibatch Loss= 1.649444, Training Accuracy= 62.50%\n",
      "Iter 88384, Minibatch Loss= 11.847616, Training Accuracy= 40.62%\n",
      "Iter 88704, Minibatch Loss= 18.641899, Training Accuracy= 46.88%\n",
      "Iter 89024, Minibatch Loss= 1.931029, Training Accuracy= 68.75%\n",
      "Iter 89344, Minibatch Loss= 2.899383, Training Accuracy= 40.62%\n",
      "Iter 89664, Minibatch Loss= 2.929244, Training Accuracy= 59.38%\n",
      "Iter 89984, Minibatch Loss= 1.114542, Training Accuracy= 62.50%\n",
      "Iter 90304, Minibatch Loss= 5.184703, Training Accuracy= 59.38%\n",
      "Iter 90624, Minibatch Loss= 3.064873, Training Accuracy= 56.25%\n",
      "Iter 90944, Minibatch Loss= 16.231632, Training Accuracy= 46.88%\n",
      "Iter 91264, Minibatch Loss= 2.165925, Training Accuracy= 37.50%\n",
      "Iter 91584, Minibatch Loss= 3.634693, Training Accuracy= 56.25%\n",
      "Iter 91904, Minibatch Loss= 0.778957, Training Accuracy= 43.75%\n",
      "Iter 92224, Minibatch Loss= 19.335743, Training Accuracy= 50.00%\n",
      "Iter 92544, Minibatch Loss= 0.629092, Training Accuracy= 75.00%\n",
      "Iter 92864, Minibatch Loss= 26.856632, Training Accuracy= 50.00%\n",
      "Iter 93184, Minibatch Loss= 5.364766, Training Accuracy= 56.25%\n",
      "Iter 93504, Minibatch Loss= 13.929726, Training Accuracy= 56.25%\n",
      "Iter 93824, Minibatch Loss= 13.929771, Training Accuracy= 56.25%\n",
      "Iter 94144, Minibatch Loss= 16.579115, Training Accuracy= 46.88%\n",
      "Iter 94464, Minibatch Loss= 5.053478, Training Accuracy= 50.00%\n",
      "Iter 94784, Minibatch Loss= 3.104481, Training Accuracy= 59.38%\n",
      "Iter 95104, Minibatch Loss= 1.747122, Training Accuracy= 59.38%\n",
      "Iter 95424, Minibatch Loss= 5.320297, Training Accuracy= 43.75%\n",
      "Iter 95744, Minibatch Loss= 9.149046, Training Accuracy= 59.38%\n",
      "Iter 96064, Minibatch Loss= 1.544008, Training Accuracy= 50.00%\n",
      "Iter 96384, Minibatch Loss= 7.699858, Training Accuracy= 50.00%\n",
      "Iter 96704, Minibatch Loss= 5.718311, Training Accuracy= 53.12%\n",
      "Iter 97024, Minibatch Loss= 6.537544, Training Accuracy= 53.12%\n",
      "Iter 97344, Minibatch Loss= 5.513936, Training Accuracy= 56.25%\n",
      "Iter 97664, Minibatch Loss= 2.005014, Training Accuracy= 59.38%\n",
      "Iter 97984, Minibatch Loss= 13.117681, Training Accuracy= 56.25%\n",
      "Iter 98304, Minibatch Loss= 5.890246, Training Accuracy= 68.75%\n",
      "Iter 98624, Minibatch Loss= 0.715613, Training Accuracy= 37.50%\n",
      "Iter 98944, Minibatch Loss= 9.092052, Training Accuracy= 43.75%\n",
      "Iter 99264, Minibatch Loss= 22.755630, Training Accuracy= 56.25%\n",
      "Iter 99584, Minibatch Loss= 11.990618, Training Accuracy= 40.62%\n",
      "Iter 99904, Minibatch Loss= 3.137798, Training Accuracy= 46.88%\n",
      "Optimization Finished!\n"
     ]
    }
   ],
   "source": [
    "with tf.Session() as sess:\n",
    "    sess.run(init)\n",
    "    \n",
    "    writer = tf.summary.FileWriter(logs_path,graph=tf.get_default_graph())\n",
    "    step = 1 \n",
    "    \n",
    "    while step * batch_size < training_iters:\n",
    "        batch_x,batch_y = train_iter.next_batch()\n",
    "        sess.run(optimized,feed_dict={x:batch_x,y:batch_y})\n",
    "        \n",
    "        summary = sess.run(summary_op,feed_dict={x:batch_x,y:batch_y})\n",
    "        \n",
    "        writer.add_summary(summary,step * batch_size)\n",
    "        \n",
    "        if step % display_step == 2:\n",
    "            acc = sess.run(accuracy,feed_dict={x:batch_x,y:batch_y})\n",
    "            \n",
    "            loss = sess.run(cost, feed_dict= {x:batch_x,y:batch_y})\n",
    "            print(\"Iter \"+str(step*batch_size) + \\\n",
    "                  \", Minibatch Loss= \" + \"{:.6f}\".format(loss) + \\\n",
    "                  \", Training Accuracy= \"+ \"{:.2f}\".format(acc*100) + \"%\")\n",
    "        step += 1 \n",
    "    print(\"Optimization Finished!\")"
   ]
  },
  {
   "cell_type": "code",
   "execution_count": null,
   "metadata": {},
   "outputs": [],
   "source": []
  }
 ],
 "metadata": {
  "kernelspec": {
   "display_name": "Python 3.6 (tensorflow)",
   "language": "python",
   "name": "tensorflow"
  },
  "language_info": {
   "codemirror_mode": {
    "name": "ipython",
    "version": 3
   },
   "file_extension": ".py",
   "mimetype": "text/x-python",
   "name": "python",
   "nbconvert_exporter": "python",
   "pygments_lexer": "ipython3",
   "version": "3.6.8"
  },
  "toc": {
   "base_numbering": 1,
   "nav_menu": {},
   "number_sections": true,
   "sideBar": true,
   "skip_h1_title": false,
   "title_cell": "Table of Contents",
   "title_sidebar": "Contents",
   "toc_cell": false,
   "toc_position": {},
   "toc_section_display": true,
   "toc_window_display": false
  }
 },
 "nbformat": 4,
 "nbformat_minor": 2
}
